{
 "cells": [
  {
   "cell_type": "code",
   "execution_count": 82,
   "id": "a42e2c79",
   "metadata": {},
   "outputs": [],
   "source": [
    "import pandas as pd\n",
    "import numpy as np\n",
    "from sqlalchemy import create_engine\n",
    "import warnings\n",
    "\n",
    "warnings.filterwarnings('ignore')"
   ]
  },
  {
   "cell_type": "code",
   "execution_count": 83,
   "id": "e41844d7",
   "metadata": {},
   "outputs": [],
   "source": [
    "postgres_user = 'dsbc_student'\n",
    "postgres_pw = '7*.8G9QH21'\n",
    "postgres_host = '142.93.121.174'\n",
    "postgres_port = '5432'\n",
    "postgres_db = 'useducation'\n",
    "\n",
    "engine = create_engine('postgresql://{}:{}@{}:{}/{}'.format(\n",
    "    postgres_user, postgres_pw, postgres_host, postgres_port, postgres_db))"
   ]
  },
  {
   "cell_type": "code",
   "execution_count": 84,
   "id": "f2251dc0",
   "metadata": {},
   "outputs": [],
   "source": [
    "education_df = pd.read_sql_query('select * from useducation',con=engine)\n",
    "\n",
    "# No need for an open connection, \n",
    "# because you're only doing a single query\n",
    "engine.dispose()"
   ]
  },
  {
   "cell_type": "code",
   "execution_count": 85,
   "id": "13b8ee09",
   "metadata": {},
   "outputs": [
    {
     "name": "stdout",
     "output_type": "stream",
     "text": [
      "<class 'pandas.core.frame.DataFrame'>\n",
      "RangeIndex: 1492 entries, 0 to 1491\n",
      "Data columns (total 25 columns):\n",
      " #   Column                        Non-Null Count  Dtype  \n",
      "---  ------                        --------------  -----  \n",
      " 0   PRIMARY_KEY                   1492 non-null   object \n",
      " 1   STATE                         1492 non-null   object \n",
      " 2   YEAR                          1492 non-null   int64  \n",
      " 3   ENROLL                        1229 non-null   float64\n",
      " 4   TOTAL_REVENUE                 1280 non-null   float64\n",
      " 5   FEDERAL_REVENUE               1280 non-null   float64\n",
      " 6   STATE_REVENUE                 1280 non-null   float64\n",
      " 7   LOCAL_REVENUE                 1280 non-null   float64\n",
      " 8   TOTAL_EXPENDITURE             1280 non-null   float64\n",
      " 9   INSTRUCTION_EXPENDITURE       1280 non-null   float64\n",
      " 10  SUPPORT_SERVICES_EXPENDITURE  1280 non-null   float64\n",
      " 11  OTHER_EXPENDITURE             1229 non-null   float64\n",
      " 12  CAPITAL_OUTLAY_EXPENDITURE    1280 non-null   float64\n",
      " 13  GRADES_PK_G                   1319 non-null   float64\n",
      " 14  GRADES_KG_G                   1360 non-null   float64\n",
      " 15  GRADES_4_G                    1361 non-null   float64\n",
      " 16  GRADES_8_G                    1361 non-null   float64\n",
      " 17  GRADES_12_G                   1361 non-null   float64\n",
      " 18  GRADES_1_8_G                  1361 non-null   float64\n",
      " 19  GRADES_9_12_G                 1361 non-null   float64\n",
      " 20  GRADES_ALL_G                  1319 non-null   float64\n",
      " 21  AVG_MATH_4_SCORE              536 non-null    float64\n",
      " 22  AVG_MATH_8_SCORE              532 non-null    float64\n",
      " 23  AVG_READING_4_SCORE           533 non-null    float64\n",
      " 24  AVG_READING_8_SCORE           498 non-null    float64\n",
      "dtypes: float64(22), int64(1), object(2)\n",
      "memory usage: 291.5+ KB\n"
     ]
    }
   ],
   "source": [
    "education_df.info()"
   ]
  },
  {
   "cell_type": "code",
   "execution_count": 86,
   "id": "439d4f27",
   "metadata": {},
   "outputs": [
    {
     "data": {
      "text/plain": [
       "PRIMARY_KEY                      0.000000\n",
       "STATE                            0.000000\n",
       "YEAR                             0.000000\n",
       "ENROLL                          17.627346\n",
       "TOTAL_REVENUE                   14.209115\n",
       "FEDERAL_REVENUE                 14.209115\n",
       "STATE_REVENUE                   14.209115\n",
       "LOCAL_REVENUE                   14.209115\n",
       "TOTAL_EXPENDITURE               14.209115\n",
       "INSTRUCTION_EXPENDITURE         14.209115\n",
       "SUPPORT_SERVICES_EXPENDITURE    14.209115\n",
       "OTHER_EXPENDITURE               17.627346\n",
       "CAPITAL_OUTLAY_EXPENDITURE      14.209115\n",
       "GRADES_PK_G                     11.595174\n",
       "GRADES_KG_G                      8.847185\n",
       "GRADES_4_G                       8.780161\n",
       "GRADES_8_G                       8.780161\n",
       "GRADES_12_G                      8.780161\n",
       "GRADES_1_8_G                     8.780161\n",
       "GRADES_9_12_G                    8.780161\n",
       "GRADES_ALL_G                    11.595174\n",
       "AVG_MATH_4_SCORE                64.075067\n",
       "AVG_MATH_8_SCORE                64.343164\n",
       "AVG_READING_4_SCORE             64.276139\n",
       "AVG_READING_8_SCORE             66.621984\n",
       "dtype: float64"
      ]
     },
     "execution_count": 86,
     "metadata": {},
     "output_type": "execute_result"
    }
   ],
   "source": [
    "# 1. Determine all the variable types and find the fraction of the missing values for each variable.\n",
    "\n",
    "education_df.isnull().sum()*100/education_df.isnull().count()"
   ]
  },
  {
   "cell_type": "code",
   "execution_count": 46,
   "id": "4f9c48ae",
   "metadata": {},
   "outputs": [
    {
     "data": {
      "text/plain": [
       "PRIMARY_KEY                      0.000000\n",
       "STATE                            0.000000\n",
       "YEAR                             0.000000\n",
       "ENROLL                           0.000000\n",
       "TOTAL_REVENUE                    0.000000\n",
       "FEDERAL_REVENUE                  0.000000\n",
       "STATE_REVENUE                    0.000000\n",
       "LOCAL_REVENUE                    0.000000\n",
       "TOTAL_EXPENDITURE                0.000000\n",
       "INSTRUCTION_EXPENDITURE          0.000000\n",
       "SUPPORT_SERVICES_EXPENDITURE     0.000000\n",
       "OTHER_EXPENDITURE                0.000000\n",
       "CAPITAL_OUTLAY_EXPENDITURE       0.000000\n",
       "GRADES_PK_G                      0.000000\n",
       "GRADES_KG_G                      0.000000\n",
       "GRADES_4_G                       0.000000\n",
       "GRADES_8_G                       0.000000\n",
       "GRADES_12_G                      0.000000\n",
       "GRADES_1_8_G                     0.000000\n",
       "GRADES_9_12_G                    0.000000\n",
       "GRADES_ALL_G                     0.000000\n",
       "AVG_MATH_4_SCORE                64.075067\n",
       "AVG_MATH_8_SCORE                64.343164\n",
       "AVG_READING_4_SCORE             64.276139\n",
       "AVG_READING_8_SCORE             66.621984\n",
       "dtype: float64"
      ]
     },
     "execution_count": 46,
     "metadata": {},
     "output_type": "execute_result"
    }
   ],
   "source": [
    "# 2. Notice that the data has a time dimension (year). For this assessment, \n",
    "# forget about time and treat all the observations as if they're from the\n",
    "# same year. Choose a strategy to deal with the missing values for each \n",
    "# variable. For which variables would filling in the missing values with \n",
    "# some value make sense? For which might tossing out the records entirely \n",
    "# make sense?\n",
    "\n",
    "# Avg scores are all missing 60+ percent of data and should not be used \n",
    "# in their current state for any analysis.\n",
    "\n",
    "# Remaining missing values are under 20% so will be filled in using the mean\n",
    "# of the corresponding column.\n",
    "\n",
    "education_df[\"ENROLL\"].fillna(education_df[\"ENROLL\"].mean(), inplace = True)\n",
    "education_df[\"TOTAL_REVENUE\"].fillna(education_df[\"TOTAL_REVENUE\"].mean(), inplace = True)\n",
    "education_df[\"FEDERAL_REVENUE\"].fillna(education_df[\"FEDERAL_REVENUE\"].mean(), inplace = True)\n",
    "education_df[\"STATE_REVENUE\"].fillna(education_df[\"STATE_REVENUE\"].mean(), inplace = True)\n",
    "education_df[\"LOCAL_REVENUE\"].fillna(education_df[\"LOCAL_REVENUE\"].mean(), inplace = True)\n",
    "education_df[\"TOTAL_EXPENDITURE\"].fillna(education_df[\"TOTAL_EXPENDITURE\"].mean(), inplace = True)\n",
    "education_df[\"INSTRUCTION_EXPENDITURE\"].fillna(education_df[\"INSTRUCTION_EXPENDITURE\"].mean(), inplace = True)\n",
    "education_df[\"SUPPORT_SERVICES_EXPENDITURE\"].fillna(education_df[\"SUPPORT_SERVICES_EXPENDITURE\"].mean(), inplace = True)\n",
    "education_df[\"OTHER_EXPENDITURE\"].fillna(education_df[\"OTHER_EXPENDITURE\"].mean(), inplace = True)\n",
    "education_df[\"CAPITAL_OUTLAY_EXPENDITURE\"].fillna(education_df[\"CAPITAL_OUTLAY_EXPENDITURE\"].mean(), inplace = True)\n",
    "education_df[\"GRADES_PK_G\"].fillna(education_df[\"GRADES_PK_G\"].mean(), inplace = True)\n",
    "education_df[\"GRADES_KG_G\"].fillna(education_df[\"GRADES_KG_G\"].mean(), inplace = True)\n",
    "education_df[\"GRADES_4_G\"].fillna(education_df[\"GRADES_4_G\"].mean(), inplace = True)\n",
    "education_df[\"GRADES_8_G\"].fillna(education_df[\"GRADES_8_G\"].mean(), inplace = True)\n",
    "education_df[\"GRADES_12_G\"].fillna(education_df[\"GRADES_12_G\"].mean(), inplace = True)\n",
    "education_df[\"GRADES_1_8_G\"].fillna(education_df[\"GRADES_1_8_G\"].mean(), inplace = True)\n",
    "education_df[\"GRADES_9_12_G\"].fillna(education_df[\"GRADES_9_12_G\"].mean(), inplace = True)\n",
    "education_df[\"GRADES_ALL_G\"].fillna(education_df[\"GRADES_ALL_G\"].mean(), inplace = True)\n",
    "\n",
    "education_df.isnull().sum()*100/education_df.isnull().count()"
   ]
  },
  {
   "cell_type": "code",
   "execution_count": 73,
   "id": "0333d1a5",
   "metadata": {},
   "outputs": [
    {
     "data": {
      "text/plain": [
       "PRIMARY_KEY                      0.000000\n",
       "STATE                            0.000000\n",
       "YEAR                             0.000000\n",
       "ENROLL                           7.171582\n",
       "TOTAL_REVENUE                    3.418231\n",
       "FEDERAL_REVENUE                  3.418231\n",
       "STATE_REVENUE                    3.418231\n",
       "LOCAL_REVENUE                    3.418231\n",
       "TOTAL_EXPENDITURE                3.418231\n",
       "INSTRUCTION_EXPENDITURE          3.418231\n",
       "SUPPORT_SERVICES_EXPENDITURE     3.418231\n",
       "OTHER_EXPENDITURE                7.171582\n",
       "CAPITAL_OUTLAY_EXPENDITURE       3.418231\n",
       "GRADES_PK_G                      6.836461\n",
       "GRADES_KG_G                      6.836461\n",
       "GRADES_4_G                       6.836461\n",
       "GRADES_8_G                       6.836461\n",
       "GRADES_12_G                      6.836461\n",
       "GRADES_1_8_G                     6.836461\n",
       "GRADES_9_12_G                    6.836461\n",
       "GRADES_ALL_G                     6.836461\n",
       "AVG_MATH_4_SCORE                64.075067\n",
       "AVG_MATH_8_SCORE                64.343164\n",
       "AVG_READING_4_SCORE             64.276139\n",
       "AVG_READING_8_SCORE             66.621984\n",
       "dtype: float64"
      ]
     },
     "execution_count": 73,
     "metadata": {},
     "output_type": "execute_result"
    }
   ],
   "source": [
    "# 3. Now, take into account the time factor. Replicate your second answer, \n",
    "# but this time, fill in the missing values by using a statistic that is \n",
    "# calculated within the year of the observation. For example, if you want \n",
    "# to fill in a missing value for a variable with the mean of that variable, \n",
    "# calculate the mean by using only the observations for that specific year.\n",
    "\n",
    "for col in education_df:\n",
    "    if (education_df[col].isnull().sum()*100/education_df[col].isnull().count() > 0.0 and\n",
    "        education_df[col].isnull().sum()*100/education_df[col].isnull().count() < 20.0):\n",
    "        for year in education_df['YEAR'].unique():\n",
    "            year_mean = education_df[education_df['YEAR'] == year][col].mean()\n",
    "            education_df.loc[education_df['YEAR'] == year, col] = education_df.loc[education_df['YEAR'] == year, col].fillna(year_mean)\n",
    "    \n",
    "education_df.isnull().sum()*100/education_df.isnull().count()          "
   ]
  },
  {
   "cell_type": "code",
   "execution_count": 87,
   "id": "8506ea22",
   "metadata": {},
   "outputs": [
    {
     "data": {
      "text/plain": [
       "PRIMARY_KEY                      0.000000\n",
       "STATE                            0.000000\n",
       "YEAR                             0.000000\n",
       "ENROLL                           3.820375\n",
       "TOTAL_REVENUE                    0.402145\n",
       "FEDERAL_REVENUE                  0.402145\n",
       "STATE_REVENUE                    0.402145\n",
       "LOCAL_REVENUE                    0.402145\n",
       "TOTAL_EXPENDITURE                0.402145\n",
       "INSTRUCTION_EXPENDITURE          0.402145\n",
       "SUPPORT_SERVICES_EXPENDITURE     0.402145\n",
       "OTHER_EXPENDITURE                3.820375\n",
       "CAPITAL_OUTLAY_EXPENDITURE       0.402145\n",
       "GRADES_PK_G                      8.512064\n",
       "GRADES_KG_G                      5.831099\n",
       "GRADES_4_G                       5.764075\n",
       "GRADES_8_G                       5.764075\n",
       "GRADES_12_G                      5.764075\n",
       "GRADES_1_8_G                     5.764075\n",
       "GRADES_9_12_G                    5.764075\n",
       "GRADES_ALL_G                     8.512064\n",
       "AVG_MATH_4_SCORE                64.075067\n",
       "AVG_MATH_8_SCORE                64.343164\n",
       "AVG_READING_4_SCORE             64.276139\n",
       "AVG_READING_8_SCORE             66.621984\n",
       "dtype: float64"
      ]
     },
     "execution_count": 87,
     "metadata": {},
     "output_type": "execute_result"
    }
   ],
   "source": [
    "# 4. This time, fill in the missing values using interpolation (extrapolation).\n",
    "\n",
    "education_df = education_df.interpolate(method = 'linear', limit_area = 'outside')\n",
    "\n",
    "education_df.isnull().sum()*100/education_df.isnull().count() "
   ]
  },
  {
   "cell_type": "code",
   "execution_count": 10,
   "id": "1f21bae0",
   "metadata": {},
   "outputs": [],
   "source": [
    "# 5. Compare your results for the second, third, and fourth questions. Do you \n",
    "# find any meaningful differences?\n",
    "\n",
    "# Manually replacing missing values with our own choosing obviously allows us\n",
    "# to remove all missing values, where as the other two methods cannot guarantee\n",
    "# that result. Replacing values with a qualifier that requires another valid \n",
    "# value such as year means if we dont have data within that givin year then the\n",
    "# missing values wont be filled. Interpolating also requires valid data to present\n",
    "# wherever we are pulling data from to do said interpolating. With that said\n",
    "# interpolating at just a basic level filled in the majority of missing values \n",
    "# in most columns."
   ]
  },
  {
   "cell_type": "code",
   "execution_count": null,
   "id": "bf6c7bd6",
   "metadata": {},
   "outputs": [],
   "source": []
  }
 ],
 "metadata": {
  "kernelspec": {
   "display_name": "Python 3 (ipykernel)",
   "language": "python",
   "name": "python3"
  },
  "language_info": {
   "codemirror_mode": {
    "name": "ipython",
    "version": 3
   },
   "file_extension": ".py",
   "mimetype": "text/x-python",
   "name": "python",
   "nbconvert_exporter": "python",
   "pygments_lexer": "ipython3",
   "version": "3.9.12"
  }
 },
 "nbformat": 4,
 "nbformat_minor": 5
}
