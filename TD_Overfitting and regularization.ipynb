{
 "cells": [
  {
   "cell_type": "code",
   "execution_count": 15,
   "id": "c50248de",
   "metadata": {},
   "outputs": [],
   "source": [
    "### Load the houseprices data from Thinkful's database.\n",
    "\n",
    "import numpy as np\n",
    "import pandas as pd\n",
    "import matplotlib.pyplot as plt\n",
    "from sqlalchemy import create_engine\n",
    "import statsmodels.api as sm\n",
    "from sklearn.model_selection import train_test_split\n",
    "from sklearn.metrics import mean_absolute_error\n",
    "from statsmodels.tools.eval_measures import mse, rmse\n",
    "from sklearn.linear_model import LinearRegression\n",
    "from sklearn.linear_model import RidgeCV\n",
    "from sklearn.linear_model import LassoCV\n",
    "from sklearn.linear_model import ElasticNetCV\n",
    "\n",
    "%matplotlib inline\n",
    "pd.options.display.float_format = '{:.3f}'.format\n",
    "import warnings\n",
    "warnings.filterwarnings('ignore')\n",
    "\n",
    "postgres_user = 'dsbc_student'\n",
    "postgres_pw = '7*.8G9QH21'\n",
    "postgres_host = '142.93.121.174'\n",
    "postgres_port = '5432'\n",
    "postgres_db = 'houseprices'\n",
    "engine = create_engine('postgresql://{}:{}@{}:{}/{}'.format(\n",
    "    postgres_user, postgres_pw, postgres_host, postgres_port, postgres_db))\n",
    "house_df = pd.read_sql_query('select * from houseprices',con=engine)\n",
    "\n",
    "# no need for an open connection, as we're only doing a single query\n",
    "engine.dispose()"
   ]
  },
  {
   "cell_type": "code",
   "execution_count": 16,
   "id": "f0226002",
   "metadata": {},
   "outputs": [],
   "source": [
    "house_df = pd.concat([house_df,pd.get_dummies(house_df.centralair, prefix = \"centralair\", drop_first = True)], axis = 1)\n",
    "dummy_column_names = list(pd.get_dummies(house_df.centralair, prefix = \"centralair\", drop_first = True).columns)\n",
    "house_df['totalsf'] = house_df['totalbsmtsf'] + house_df['firstflrsf'] + house_df['secondflrsf']\n",
    "Y = np.log1p(house_df['saleprice'])\n",
    "X = house_df[['overallqual', 'grlivarea', 'garagecars', 'totalsf'] + dummy_column_names]\n",
    "X = sm.add_constant(X)\n",
    "X_train, X_test, y_train, y_test = train_test_split(X, Y, test_size = 0.2, random_state = 37)\n",
    "alphas = [np.power(10.0,p) for p in np.arange(-10,40,1)]"
   ]
  },
  {
   "cell_type": "code",
   "execution_count": 17,
   "id": "7627e522",
   "metadata": {},
   "outputs": [],
   "source": [
    "### Try OLS, lasso, ridge, and elastic net regression using the same model specification. This time, you need to do k-fold \n",
    "### cross-validation to choose the best hyperparameter values for your models. Scikit-learn has RidgeCV, LassoCV, and \n",
    "### ElasticNetCV that you can utilize to do this. Which model is the best? Why?"
   ]
  },
  {
   "cell_type": "code",
   "execution_count": 18,
   "id": "060f95ce",
   "metadata": {},
   "outputs": [
    {
     "name": "stdout",
     "output_type": "stream",
     "text": [
      "R-squared of the model in the training set is: 0.8191858742162685\n",
      "-----Test set statistics-----\n",
      "R-squared of the model in the test set is: 0.7776690719006142\n",
      "Mean absolute error of the prediction is: 0.12720268943550483\n",
      "Mean squared error of the prediction is: 0.034147143979617184\n",
      "Root mean squared error of the prediction is: 0.18478945851865355\n",
      "Mean absolute percentage error of the prediction is: 1.0609997089249261\n"
     ]
    }
   ],
   "source": [
    "### OLS \n",
    "\n",
    "lrm = LinearRegression()\n",
    "lrm.fit(X_train, y_train)\n",
    "y_preds_train = lrm.predict(X_train)\n",
    "y_preds_test = lrm.predict(X_test)\n",
    "\n",
    "print(\"R-squared of the model in the training set is: {}\".format(lrm.score(X_train, y_train)))\n",
    "print(\"-----Test set statistics-----\")\n",
    "print(\"R-squared of the model in the test set is: {}\".format(lrm.score(X_test, y_test)))\n",
    "print(\"Mean absolute error of the prediction is: {}\".format(mean_absolute_error(y_test, y_preds_test)))\n",
    "print(\"Mean squared error of the prediction is: {}\".format(mse(y_test, y_preds_test)))\n",
    "print(\"Root mean squared error of the prediction is: {}\".format(rmse(y_test, y_preds_test)))\n",
    "print(\"Mean absolute percentage error of the prediction is: {}\".format(np.mean(np.abs((y_test - y_preds_test) / y_test)) * 100))"
   ]
  },
  {
   "cell_type": "code",
   "execution_count": 20,
   "id": "7f214d19",
   "metadata": {},
   "outputs": [
    {
     "name": "stdout",
     "output_type": "stream",
     "text": [
      "R-squared of the model on the training set is: 0.8191858742162685\n",
      "-----Test set statistics-----\n",
      "R-squared of the model on the test set is: 0.7776690719634503\n",
      "Mean absolute error of the prediction is: 0.12720268941039048\n",
      "Mean squared error of the prediction is: 0.03414714396996638\n",
      "Root mean squared error of the prediction is: 0.18478945849254058\n",
      "Mean absolute percentage error of the prediction is: 1.060999708705768\n"
     ]
    }
   ],
   "source": [
    "# Lasso\n",
    "\n",
    "lassoregr = LassoCV(alphas = alphas, cv = 5) \n",
    "lassoregr.fit(X_train, y_train)\n",
    "y_preds_train = lassoregr.predict(X_train)\n",
    "y_preds_test = lassoregr.predict(X_test)\n",
    "\n",
    "print(\"R-squared of the model on the training set is: {}\".format(lassoregr.score(X_train, y_train)))\n",
    "print(\"-----Test set statistics-----\")\n",
    "print(\"R-squared of the model on the test set is: {}\".format(lassoregr.score(X_test, y_test)))\n",
    "print(\"Mean absolute error of the prediction is: {}\".format(mean_absolute_error(y_test, y_preds_test)))\n",
    "print(\"Mean squared error of the prediction is: {}\".format(mse(y_test, y_preds_test)))\n",
    "print(\"Root mean squared error of the prediction is: {}\".format(rmse(y_test, y_preds_test)))\n",
    "print(\"Mean absolute percentage error of the prediction is: {}\".format(np.mean(np.abs((y_test - y_preds_test) / y_test)) * 100))"
   ]
  },
  {
   "cell_type": "code",
   "execution_count": 21,
   "id": "e05f4c48",
   "metadata": {},
   "outputs": [
    {
     "name": "stdout",
     "output_type": "stream",
     "text": [
      "R-squared of the model on the training set is: 0.8191820460530164\n",
      "-----Test set statistics-----\n",
      "R-squared of the model on the test set is: 0.7777610861264382\n",
      "Mean absolute error of the prediction is: 0.12717114846683264\n",
      "Mean squared error of the prediction is: 0.03413301178917366\n",
      "Root mean squared error of the prediction is: 0.18475121593422236\n",
      "Mean absolute percentage error of the prediction is: 1.0607252270165501\n"
     ]
    }
   ],
   "source": [
    "# Ridge\n",
    "\n",
    "ridgeregr = RidgeCV(alphas = alphas, cv = 5) \n",
    "ridgeregr.fit(X_train, y_train)\n",
    "y_preds_train = ridgeregr.predict(X_train)\n",
    "y_preds_test = ridgeregr.predict(X_test)\n",
    "\n",
    "print(\"R-squared of the model on the training set is: {}\".format(ridgeregr.score(X_train, y_train)))\n",
    "print(\"-----Test set statistics-----\")\n",
    "print(\"R-squared of the model on the test set is: {}\".format(ridgeregr.score(X_test, y_test)))\n",
    "print(\"Mean absolute error of the prediction is: {}\".format(mean_absolute_error(y_test, y_preds_test)))\n",
    "print(\"Mean squared error of the prediction is: {}\".format(mse(y_test, y_preds_test)))\n",
    "print(\"Root mean squared error of the prediction is: {}\".format(rmse(y_test, y_preds_test)))\n",
    "print(\"Mean absolute percentage error of the prediction is: {}\".format(np.mean(np.abs((y_test - y_preds_test) / y_test)) * 100))"
   ]
  },
  {
   "cell_type": "code",
   "execution_count": null,
   "id": "27955c9f",
   "metadata": {},
   "outputs": [],
   "source": [
    "# OLS and Lasso produce very similar results. Lasso produces smaller mean errors values and so is likely a better option here."
   ]
  }
 ],
 "metadata": {
  "kernelspec": {
   "display_name": "Python 3 (ipykernel)",
   "language": "python",
   "name": "python3"
  },
  "language_info": {
   "codemirror_mode": {
    "name": "ipython",
    "version": 3
   },
   "file_extension": ".py",
   "mimetype": "text/x-python",
   "name": "python",
   "nbconvert_exporter": "python",
   "pygments_lexer": "ipython3",
   "version": "3.9.12"
  }
 },
 "nbformat": 4,
 "nbformat_minor": 5
}
